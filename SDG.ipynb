{
 "cells": [
  {
   "cell_type": "markdown",
   "metadata": {},
   "source": [
    "# <center>Data Analysis</center>"
   ]
  },
  {
   "cell_type": "markdown",
   "metadata": {},
   "source": [
    "<h3><B>Imorting Datasheet Using Panadas</B>"
   ]
  },
  {
   "cell_type": "code",
   "execution_count": 1,
   "metadata": {},
   "outputs": [
    {
     "name": "stdout",
     "output_type": "stream",
     "text": [
      "       Year  Electricity  Coal  Steel  Cement  Crude Oil  Refinery Products  \\\n",
      "0   1981-82        10.00  8.90   15.9    12.3       52.8                8.5   \n",
      "1   1982-83         6.80  5.10    0.0    11.0       30.3                2.9   \n",
      "2   1983-84         7.70  5.90  -12.3    16.3       23.2               13.9   \n",
      "3   1984-85        11.90  6.70    9.4    11.5       11.5                0.9   \n",
      "4   1985-86         8.50  4.70   11.4     9.6        4.5               20.6   \n",
      "5   1986-87        10.30  7.40    5.2    10.6        0.7                6.5   \n",
      "6   1987-88         7.60  8.90    4.8     8.2       -0.3                4.5   \n",
      "7   1988-89         9.50  7.60    7.0    13.1        7.2                2.3   \n",
      "8   1989-90        10.90  3.40   -2.1     2.2        4.6                6.4   \n",
      "9   1990-91         7.80  5.40    3.3     6.3       -1.2               -0.2   \n",
      "10  1991-92         8.50  8.30   20.5    10.9      -10.1               -0.8   \n",
      "11  1992-93         5.00  3.90    0.9     0.2      -10.9                4.2   \n",
      "12  1993-94         7.40  3.30    6.2     6.8        0.0                1.6   \n",
      "13  1994-95         8.50  3.00   17.3     8.8       19.3                5.9   \n",
      "14  1995-96         8.30  6.40   21.9    11.5        7.0                3.9   \n",
      "15  1996-97         3.70  5.70    5.7     9.6        7.0                7.0   \n",
      "16  1997-98         6.60  3.60    6.3     9.1        3.0                3.7   \n",
      "17  1998-99         6.60 -2.10    1.4     5.7       -3.4                5.2   \n",
      "18  1999-00         7.20  3.10   15.0    14.2       -2.4               25.4   \n",
      "19  2000-01         3.90  3.50    6.4    -0.9        1.5               20.3   \n",
      "20  2001-02         3.10  4.20    3.6     7.4       -1.2                3.7   \n",
      "21  2002-03         3.20  4.60   10.1     8.8        3.2                4.9   \n",
      "22  2003-04         5.10  5.80    9.8     6.1        1.0                8.2   \n",
      "23  2004-05         5.20  3.90    3.7     6.6        1.8                4.3   \n",
      "24  2005-06         5.10  6.60    7.0    12.4       -5.2                2.1   \n",
      "25  2006-07         7.30  5.90   12.8     9.1        5.6               12.9   \n",
      "26  2007-08         6.30  6.30    6.8     8.1        0.4                6.5   \n",
      "27  2008-09         2.70  8.00    1.9     7.2       -1.8                3.0   \n",
      "28  2009-10         6.20  8.10    6.0    10.5        0.5               -0.4   \n",
      "29  2010-11         5.60 -0.20   13.2     4.5       11.9                3.0   \n",
      "30  2011-12         8.10  1.30   10.3     6.7        1.0                3.1   \n",
      "31  2012-13         4.00  4.60    4.1     7.7       -0.6               29.0   \n",
      "32  2013-14         6.05  0.90    7.3     3.7       -0.2                1.4   \n",
      "33  2014-15        14.80  8.05    5.1     5.9       -0.9                0.2   \n",
      "34  2015-16         5.70  4.80   -1.3     4.6       -1.4                4.8   \n",
      "35  2016-17         5.80  3.20   10.7    -1.2       -2.5                4.9   \n",
      "36  2017-18         5.30  2.50    5.6     6.3       -0.9                4.6   \n",
      "37  2018-19         5.20  7.40    5.1    13.3       -4.1                3.1   \n",
      "\n",
      "   Natural Gas  \n",
      "0            -  \n",
      "1            -  \n",
      "2            -  \n",
      "3            -  \n",
      "4            -  \n",
      "5            -  \n",
      "6            -  \n",
      "7            -  \n",
      "8            -  \n",
      "9            -  \n",
      "10           -  \n",
      "11           -  \n",
      "12           -  \n",
      "13           -  \n",
      "14           -  \n",
      "15           -  \n",
      "16           -  \n",
      "17           -  \n",
      "18           -  \n",
      "19           -  \n",
      "20           -  \n",
      "21           -  \n",
      "22           -  \n",
      "23           -  \n",
      "24         1.4  \n",
      "25        -1.4  \n",
      "26         2.1  \n",
      "27         1.3  \n",
      "28        44.6  \n",
      "29          10  \n",
      "30        -8.9  \n",
      "31       -14.5  \n",
      "32       -12.9  \n",
      "33        -5.3  \n",
      "34        -4.7  \n",
      "35          -1  \n",
      "36         2.8  \n",
      "37         0.8  \n"
     ]
    }
   ],
   "source": [
    "import numpy as np\n",
    "import pandas as pd\n",
    "\n",
    "data = pd.read_csv(\"C:\\\\Users\\\\HP\\\\Desktop\\\\Data.csv\")\n",
    "print(data)"
   ]
  },
  {
   "cell_type": "markdown",
   "metadata": {},
   "source": [
    "<h3><B>Extracting Required Data into Arrays</B>"
   ]
  },
  {
   "cell_type": "code",
   "execution_count": 2,
   "metadata": {
    "scrolled": false
   },
   "outputs": [
    {
     "name": "stdout",
     "output_type": "stream",
     "text": [
      "[ 52.8  30.3  23.2  11.5   4.5   0.7  -0.3   7.2   4.6  -1.2 -10.1 -10.9\n",
      "   0.   19.3   7.    7.    3.   -3.4  -2.4   1.5  -1.2   3.2   1.    1.8\n",
      "  -5.2   5.6   0.4  -1.8   0.5  11.9   1.   -0.6  -0.2  -0.9  -1.4  -2.5\n",
      "  -0.9  -4.1]\n",
      "['1981-82' '1982-83' '1983-84' '1984-85' '1985-86' '1986-87' '1987-88'\n",
      " '1988-89' '1989-90' '1990-91' '1991-92' '1992-93' '1993-94' '1994-95'\n",
      " '1995-96' '1996-97' '1997-98' '1998-99' '1999-00' '2000-01' '2001-02'\n",
      " '2002-03' '2003-04' '2004-05' '2005-06' '2006-07' '2007-08' '2008-09'\n",
      " '2009-10' '2010-11' '2011-12' '2012-13' '2013-14' '2014-15' '2015-16'\n",
      " '2016-17' '2017-18' '2018-19']\n",
      "38\n"
     ]
    }
   ],
   "source": [
    "CrudeOil = np.array(data[\"Crude Oil\"])\n",
    "print(CrudeOil)\n",
    "\n",
    "year = np.array(data[\"Year\"])\n",
    "print(year)\n",
    "\n",
    "Year = [1981.5, 1982.5, 1983.5, 1984.5, 1985.5, 1986.5, 1987.5, 1988.5, 1989.5, 1990.5, 1991.5, 1992.5, 1993.5, 1994.5, 1995.5, 1996.5, 1997.5, 1998.5, 1999.5, 2000.5, 2001.5, 2002.5, 2003.5, 2004.5, 2005.5, 2006.5, 2007.5, 2008.5, 2009.5, 2010.5, 2011.5, 2012.5, 2013.5, 2014.5, 2015.5 , 2016.5, 2017.5, 2018.5]\n",
    "Year = np.array(Year)\n",
    "\n",
    "print(len(Year))"
   ]
  },
  {
   "cell_type": "markdown",
   "metadata": {},
   "source": [
    "<h3><B>Plotting Graph for Regression</B>"
   ]
  },
  {
   "cell_type": "code",
   "execution_count": 5,
   "metadata": {},
   "outputs": [
    {
     "data": {
      "text/plain": [
       "([<matplotlib.axis.XTick at 0x1f720a8c3c8>,\n",
       "  <matplotlib.axis.XTick at 0x1f720a8cf28>,\n",
       "  <matplotlib.axis.XTick at 0x1f720a8cef0>,\n",
       "  <matplotlib.axis.XTick at 0x1f720ac39e8>,\n",
       "  <matplotlib.axis.XTick at 0x1f720ac3e80>,\n",
       "  <matplotlib.axis.XTick at 0x1f720acd390>,\n",
       "  <matplotlib.axis.XTick at 0x1f720acd908>,\n",
       "  <matplotlib.axis.XTick at 0x1f720acde80>,\n",
       "  <matplotlib.axis.XTick at 0x1f720ac3cf8>,\n",
       "  <matplotlib.axis.XTick at 0x1f720ad3400>,\n",
       "  <matplotlib.axis.XTick at 0x1f720ad3978>,\n",
       "  <matplotlib.axis.XTick at 0x1f720ad3ef0>,\n",
       "  <matplotlib.axis.XTick at 0x1f720adb4a8>,\n",
       "  <matplotlib.axis.XTick at 0x1f720adba20>,\n",
       "  <matplotlib.axis.XTick at 0x1f720adbe80>,\n",
       "  <matplotlib.axis.XTick at 0x1f720ae2550>,\n",
       "  <matplotlib.axis.XTick at 0x1f720ae2b00>,\n",
       "  <matplotlib.axis.XTick at 0x1f720adb9e8>,\n",
       "  <matplotlib.axis.XTick at 0x1f720ac39b0>,\n",
       "  <matplotlib.axis.XTick at 0x1f720ae2f60>,\n",
       "  <matplotlib.axis.XTick at 0x1f720ae9518>,\n",
       "  <matplotlib.axis.XTick at 0x1f720ae9a90>,\n",
       "  <matplotlib.axis.XTick at 0x1f720af00b8>,\n",
       "  <matplotlib.axis.XTick at 0x1f720af05c0>,\n",
       "  <matplotlib.axis.XTick at 0x1f720af0b38>,\n",
       "  <matplotlib.axis.XTick at 0x1f720af7160>,\n",
       "  <matplotlib.axis.XTick at 0x1f720af0588>,\n",
       "  <matplotlib.axis.XTick at 0x1f720ae95c0>,\n",
       "  <matplotlib.axis.XTick at 0x1f720af7518>,\n",
       "  <matplotlib.axis.XTick at 0x1f720af7b70>,\n",
       "  <matplotlib.axis.XTick at 0x1f720afd160>,\n",
       "  <matplotlib.axis.XTick at 0x1f720afd6a0>,\n",
       "  <matplotlib.axis.XTick at 0x1f720afdc18>,\n",
       "  <matplotlib.axis.XTick at 0x1f720b041d0>,\n",
       "  <matplotlib.axis.XTick at 0x1f720b04748>,\n",
       "  <matplotlib.axis.XTick at 0x1f720b04cc0>,\n",
       "  <matplotlib.axis.XTick at 0x1f720b04828>,\n",
       "  <matplotlib.axis.XTick at 0x1f720afda20>],\n",
       " <a list of 38 Text xticklabel objects>)"
      ]
     },
     "execution_count": 5,
     "metadata": {},
     "output_type": "execute_result"
    },
    {
     "data": {
      "image/png": "[encoded data removed]",
      "text/plain": [
       "<Figure size 432x288 with 1 Axes>"
      ]
     },
     "metadata": {
      "needs_background": "light"
     },
     "output_type": "display_data"
    }
   ],
   "source": [
    "import matplotlib.pyplot as plt\n",
    "plt.scatter(year, CrudeOil)\n",
    "plt.xticks(year, fontsize = 7.5, rotation= 90)"
   ]
  },
  {
   "cell_type": "code",
   "execution_count": 4,
   "metadata": {},
   "outputs": [
    {
     "data": {
      "image/png": "[encoded data removed]",
      "text/plain": [
       "<Figure size 432x288 with 1 Axes>"
      ]
     },
     "metadata": {
      "needs_background": "light"
     },
     "output_type": "display_data"
    }
   ],
   "source": [
    "import matplotlib.pyplot as plt\n",
    "l=len(Year)\n",
    "my = np.mean(CrudeOil)\n",
    "mx = np.mean(Year)\n",
    "ssxy = np.sum((Year*CrudeOil))-(l*mx*my)\n",
    "ssxx = np.sum((Year*Year))-(l*mx*mx)\n",
    "a = ssxy/ssxx\n",
    "b = my-a*mx\n",
    "y = b+a*Year\n",
    "plt.plot(Year,y,color=\"r\")\n",
    "plt.scatter(Year,CrudeOil)\n",
    "plt.show()"
   ]
  }
 ],
 "metadata": {
  "kernelspec": {
   "display_name": "Python 3",
   "language": "python",
   "name": "python3"
  },
  "language_info": {
   "codemirror_mode": {
    "name": "ipython",
    "version": 3
   },
   "file_extension": ".py",
   "mimetype": "text/x-python",
   "name": "python",
   "nbconvert_exporter": "python",
   "pygments_lexer": "ipython3",
   "version": "3.7.3"
  }
 },
 "nbformat": 4,
 "nbformat_minor": 2
}
