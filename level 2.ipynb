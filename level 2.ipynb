{
 "cells": [
  {
   "cell_type": "markdown",
   "metadata": {},
   "source": [
    "# Question 1"
   ]
  },
  {
   "cell_type": "code",
   "execution_count": 2,
   "metadata": {},
   "outputs": [
    {
     "name": "stdout",
     "output_type": "stream",
     "text": [
      "enter year: 1734\n",
      "normal year\n"
     ]
    }
   ],
   "source": [
    "year = int(input(\"enter year: \"))\n",
    "b = year%4==0\n",
    "c = year%100==0\n",
    "d = year%400==0\n",
    "if(b is True):\n",
    "    print(\"it is leap year\")\n",
    "else:\n",
    "    print(\"normal year\")\n",
    "if(d is True):\n",
    "    print(\"it is a leap century\")\n",
    "if(c is True):\n",
    "    print(\"it is century\")"
   ]
  },
  {
   "cell_type": "markdown",
   "metadata": {},
   "source": [
    "# Question 2"
   ]
  },
  {
   "cell_type": "code",
   "execution_count": 6,
   "metadata": {},
   "outputs": [
    {
     "name": "stdout",
     "output_type": "stream",
     "text": [
      "Enter your sex?(M / F) m\n",
      "Enter your age? 55\n",
      "Enter your marital status?(Y / N) y\n",
      "\n",
      "he will work only in urban areas.\n"
     ]
    }
   ],
   "source": [
    "sex = str(input(\"Enter your sex?(M / F) \"))\n",
    "age = float(input(\"Enter your age? \"))\n",
    "married = str(input(\"Enter your marital status?(Y / N) \"))\n",
    "if(sex is 'f' or sex is 'F'):\n",
    "    print(\"she will work only in urban areas.\")\n",
    "elif(sex is 'm' or sex is 'M'):\n",
    "    print()\n",
    "    if(age>=20 and age<40):\n",
    "        print(\"he may work anywhere.\")\n",
    "    elif(age>=40 and age<=60):\n",
    "        print(\"he will work only in urban areas.\")\n",
    "    else:\n",
    "        print(\"ERROR\")   "
   ]
  },
  {
   "cell_type": "markdown",
   "metadata": {},
   "source": [
    "# Question 3"
   ]
  },
  {
   "cell_type": "code",
   "execution_count": 1,
   "metadata": {},
   "outputs": [
    {
     "name": "stdout",
     "output_type": "stream",
     "text": [
      "Enter 4-digit number: 1234\n"
     ]
    },
    {
     "data": {
      "text/plain": [
       "4321"
      ]
     },
     "execution_count": 1,
     "metadata": {},
     "output_type": "execute_result"
    }
   ],
   "source": [
    "int(input(\"Enter 4-digit number: \")[::-1])"
   ]
  },
  {
   "cell_type": "code",
   "execution_count": null,
   "metadata": {},
   "outputs": [],
   "source": []
  }
 ],
 "metadata": {
  "kernelspec": {
   "display_name": "Python 3",
   "language": "python",
   "name": "python3"
  },
  "language_info": {
   "codemirror_mode": {
    "name": "ipython",
    "version": 3
   },
   "file_extension": ".py",
   "mimetype": "text/x-python",
   "name": "python",
   "nbconvert_exporter": "python",
   "pygments_lexer": "ipython3",
   "version": "3.7.3"
  }
 },
 "nbformat": 4,
 "nbformat_minor": 2
}
